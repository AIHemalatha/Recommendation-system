{
 "cells": [
  {
   "cell_type": "code",
   "execution_count": 1,
   "metadata": {},
   "outputs": [],
   "source": [
    "# importing libraries\n",
    "import pandas as pd\n",
    "import numpy as np"
   ]
  },
  {
   "cell_type": "code",
   "execution_count": 2,
   "metadata": {},
   "outputs": [],
   "source": [
    "#Read the movie Dataset\n",
    "i_cols = ['movie id', 'movie title' ,'release date','video release date', 'IMDb URL', 'unknown', 'Action', 'Adventure',\n",
    "    'Animation', 'Children\\'s', 'Comedy', 'Crime', 'Documentary', 'Drama', 'Fantasy',\n",
    "    'Film-Noir', 'Horror', 'Musical', 'Mystery', 'Romance', 'Sci-Fi', 'Thriller', 'War', 'Western']\n",
    "items = pd.read_csv('ml-100k/u.item', sep='|', names=i_cols,encoding='latin-1')"
   ]
  },
  {
   "cell_type": "code",
   "execution_count": 3,
   "metadata": {},
   "outputs": [
    {
     "data": {
      "text/html": [
       "<div>\n",
       "<style scoped>\n",
       "    .dataframe tbody tr th:only-of-type {\n",
       "        vertical-align: middle;\n",
       "    }\n",
       "\n",
       "    .dataframe tbody tr th {\n",
       "        vertical-align: top;\n",
       "    }\n",
       "\n",
       "    .dataframe thead th {\n",
       "        text-align: right;\n",
       "    }\n",
       "</style>\n",
       "<table border=\"1\" class=\"dataframe\">\n",
       "  <thead>\n",
       "    <tr style=\"text-align: right;\">\n",
       "      <th></th>\n",
       "      <th>movie id</th>\n",
       "      <th>movie title</th>\n",
       "      <th>release date</th>\n",
       "      <th>video release date</th>\n",
       "      <th>IMDb URL</th>\n",
       "      <th>unknown</th>\n",
       "      <th>Action</th>\n",
       "      <th>Adventure</th>\n",
       "      <th>Animation</th>\n",
       "      <th>Children's</th>\n",
       "      <th>...</th>\n",
       "      <th>Fantasy</th>\n",
       "      <th>Film-Noir</th>\n",
       "      <th>Horror</th>\n",
       "      <th>Musical</th>\n",
       "      <th>Mystery</th>\n",
       "      <th>Romance</th>\n",
       "      <th>Sci-Fi</th>\n",
       "      <th>Thriller</th>\n",
       "      <th>War</th>\n",
       "      <th>Western</th>\n",
       "    </tr>\n",
       "  </thead>\n",
       "  <tbody>\n",
       "    <tr>\n",
       "      <th>0</th>\n",
       "      <td>1</td>\n",
       "      <td>Toy Story (1995)</td>\n",
       "      <td>01-Jan-1995</td>\n",
       "      <td>NaN</td>\n",
       "      <td>http://us.imdb.com/M/title-exact?Toy%20Story%2...</td>\n",
       "      <td>0</td>\n",
       "      <td>0</td>\n",
       "      <td>0</td>\n",
       "      <td>1</td>\n",
       "      <td>1</td>\n",
       "      <td>...</td>\n",
       "      <td>0</td>\n",
       "      <td>0</td>\n",
       "      <td>0</td>\n",
       "      <td>0</td>\n",
       "      <td>0</td>\n",
       "      <td>0</td>\n",
       "      <td>0</td>\n",
       "      <td>0</td>\n",
       "      <td>0</td>\n",
       "      <td>0</td>\n",
       "    </tr>\n",
       "    <tr>\n",
       "      <th>1</th>\n",
       "      <td>2</td>\n",
       "      <td>GoldenEye (1995)</td>\n",
       "      <td>01-Jan-1995</td>\n",
       "      <td>NaN</td>\n",
       "      <td>http://us.imdb.com/M/title-exact?GoldenEye%20(...</td>\n",
       "      <td>0</td>\n",
       "      <td>1</td>\n",
       "      <td>1</td>\n",
       "      <td>0</td>\n",
       "      <td>0</td>\n",
       "      <td>...</td>\n",
       "      <td>0</td>\n",
       "      <td>0</td>\n",
       "      <td>0</td>\n",
       "      <td>0</td>\n",
       "      <td>0</td>\n",
       "      <td>0</td>\n",
       "      <td>0</td>\n",
       "      <td>1</td>\n",
       "      <td>0</td>\n",
       "      <td>0</td>\n",
       "    </tr>\n",
       "    <tr>\n",
       "      <th>2</th>\n",
       "      <td>3</td>\n",
       "      <td>Four Rooms (1995)</td>\n",
       "      <td>01-Jan-1995</td>\n",
       "      <td>NaN</td>\n",
       "      <td>http://us.imdb.com/M/title-exact?Four%20Rooms%...</td>\n",
       "      <td>0</td>\n",
       "      <td>0</td>\n",
       "      <td>0</td>\n",
       "      <td>0</td>\n",
       "      <td>0</td>\n",
       "      <td>...</td>\n",
       "      <td>0</td>\n",
       "      <td>0</td>\n",
       "      <td>0</td>\n",
       "      <td>0</td>\n",
       "      <td>0</td>\n",
       "      <td>0</td>\n",
       "      <td>0</td>\n",
       "      <td>1</td>\n",
       "      <td>0</td>\n",
       "      <td>0</td>\n",
       "    </tr>\n",
       "  </tbody>\n",
       "</table>\n",
       "<p>3 rows × 24 columns</p>\n",
       "</div>"
      ],
      "text/plain": [
       "   movie id        movie title release date  video release date  \\\n",
       "0         1   Toy Story (1995)  01-Jan-1995                 NaN   \n",
       "1         2   GoldenEye (1995)  01-Jan-1995                 NaN   \n",
       "2         3  Four Rooms (1995)  01-Jan-1995                 NaN   \n",
       "\n",
       "                                            IMDb URL  unknown  Action  \\\n",
       "0  http://us.imdb.com/M/title-exact?Toy%20Story%2...        0       0   \n",
       "1  http://us.imdb.com/M/title-exact?GoldenEye%20(...        0       1   \n",
       "2  http://us.imdb.com/M/title-exact?Four%20Rooms%...        0       0   \n",
       "\n",
       "   Adventure  Animation  Children's  ...  Fantasy  Film-Noir  Horror  Musical  \\\n",
       "0          0          1           1  ...        0          0       0        0   \n",
       "1          1          0           0  ...        0          0       0        0   \n",
       "2          0          0           0  ...        0          0       0        0   \n",
       "\n",
       "   Mystery  Romance  Sci-Fi  Thriller  War  Western  \n",
       "0        0        0       0         0    0        0  \n",
       "1        0        0       0         1    0        0  \n",
       "2        0        0       0         1    0        0  \n",
       "\n",
       "[3 rows x 24 columns]"
      ]
     },
     "execution_count": 3,
     "metadata": {},
     "output_type": "execute_result"
    }
   ],
   "source": [
    "items.head(3)"
   ]
  },
  {
   "cell_type": "code",
   "execution_count": 4,
   "metadata": {},
   "outputs": [],
   "source": [
    "#read the ratings dataset\n",
    "r_cols = ['user_id', 'movie id', 'rating', 'unix_timestamp']\n",
    "ratings = pd.read_csv('ml-100k/u.data', sep='\\t', names=r_cols,encoding='latin-1')"
   ]
  },
  {
   "cell_type": "code",
   "execution_count": 5,
   "metadata": {},
   "outputs": [],
   "source": [
    "# 1. Group ratings to get count and mean rating per movie\n",
    "movie_popularity = ratings.groupby('movie id').agg({\n",
    "    'rating': ['count', 'mean']\n",
    "}).reset_index()\n",
    "\n",
    "# 2. Rename columns\n",
    "movie_popularity.columns = ['movie id', 'rating_count', 'avg_rating']\n",
    "\n",
    "# 3. Create a popularity score (custom: count * mean)\n",
    "movie_popularity['popularity_score'] = movie_popularity['rating_count'] * movie_popularity['avg_rating']\n",
    "\n",
    "# 4. Merge popularity scores into the items dataframe\n",
    "items_popular = pd.merge(items, movie_popularity, on='movie id', how='left')"
   ]
  },
  {
   "cell_type": "code",
   "execution_count": 6,
   "metadata": {},
   "outputs": [],
   "source": [
    "# Define genre columns\n",
    "genre_cols = ['Action', 'Adventure', 'Animation', \"Children's\", 'Comedy', 'Crime', 'Documentary',\n",
    "              'Drama', 'Fantasy', 'Film-Noir', 'Horror', 'Musical', 'Mystery', 'Romance',\n",
    "              'Sci-Fi', 'Thriller', 'War', 'Western']\n",
    "\n",
    "# Dictionary to store results\n",
    "top_bottom_movies = {}\n",
    "\n",
    "for genre in genre_cols:\n",
    "    genre_movies = items_popular[items_popular[genre] == 1]\n",
    "    \n",
    "    # Drop NaN popularity_score if any\n",
    "    genre_movies = genre_movies.dropna(subset=['popularity_score'])\n",
    "\n",
    "    # Sort based on popularity_score\n",
    "    sorted_movies = genre_movies.sort_values(by='popularity_score', ascending=False)\n",
    "\n",
    "    # Get top and bottom 5\n",
    "    top_5 = sorted_movies[['movie id', 'movie title', 'popularity_score']].head(5)\n",
    "    bottom_5 = sorted_movies[['movie id', 'movie title', 'popularity_score']].tail(5)\n",
    "\n",
    "    top_bottom_movies[genre] = {\n",
    "        'Top 5': top_5,\n",
    "        'Bottom 5': bottom_5\n",
    "    }"
   ]
  },
  {
   "cell_type": "code",
   "execution_count": 8,
   "metadata": {},
   "outputs": [
    {
     "name": "stdout",
     "output_type": "stream",
     "text": [
      "Top 5 Action Movies:\n",
      "      movie id                     movie title  popularity_score\n",
      "49         50                Star Wars (1977)            2541.0\n",
      "180       181       Return of the Jedi (1983)            2032.0\n",
      "173       174  Raiders of the Lost Ark (1981)            1786.0\n",
      "126       127           Godfather, The (1972)            1769.0\n",
      "299       300            Air Force One (1997)            1565.0\n",
      "\n",
      "Bottom 5 Action Movies:\n",
      "       movie id                                        movie title  \\\n",
      "1547      1548                               The Courtyard (1995)   \n",
      "598        599  Police Story 4: Project S (Chao ji ji hua) (1993)   \n",
      "1617      1618                            King of New York (1990)   \n",
      "1363      1364                                Bird of Prey (1996)   \n",
      "829        830                                    Power 98 (1995)   \n",
      "\n",
      "      popularity_score  \n",
      "1547               1.0  \n",
      "598                1.0  \n",
      "1617               1.0  \n",
      "1363               1.0  \n",
      "829                1.0  \n"
     ]
    }
   ],
   "source": [
    "# Example: View top 5 most suggested and highly rated Action movies\n",
    "print(\"Top 5 Action Movies:\\n\", top_bottom_movies['Action']['Top 5'])\n",
    "\n",
    "# Example: View bottom 5 Action Movies\n",
    "print(\"\\nBottom 5 Action Movies:\\n\", top_bottom_movies['Action']['Bottom 5'])"
   ]
  },
  {
   "cell_type": "code",
   "execution_count": 9,
   "metadata": {},
   "outputs": [
    {
     "name": "stdout",
     "output_type": "stream",
     "text": [
      "Top 5 Adventure Movies:\n",
      "      movie id                      movie title  popularity_score\n",
      "49         50                 Star Wars (1977)            2541.0\n",
      "180       181        Return of the Jedi (1983)            2032.0\n",
      "173       174   Raiders of the Lost Ark (1981)            1786.0\n",
      "171       172  Empire Strikes Back, The (1980)            1543.0\n",
      "116       117                 Rock, The (1996)            1396.0\n",
      "\n",
      "Bottom 5 Adventure Movies:\n",
      "       movie id                          movie title  popularity_score\n",
      "246        247  Turbo: A Power Rangers Movie (1997)               9.0\n",
      "1449      1450               Golden Earrings (1947)               8.0\n",
      "1522      1523         Good Man in Africa, A (1994)               6.0\n",
      "1514      1515              Wings of Courage (1995)               4.0\n",
      "896        897                  Time Tracers (1995)               3.0\n"
     ]
    }
   ],
   "source": [
    "# Example: View top 5 most suggested and highly rated Adventure movies\n",
    "print(\"Top 5 Adventure Movies:\\n\", top_bottom_movies['Adventure']['Top 5'])\n",
    "\n",
    "# Example: View bottom 5 Adventure Movies\n",
    "print(\"\\nBottom 5 Adventure Movies:\\n\", top_bottom_movies['Adventure']['Bottom 5'])"
   ]
  },
  {
   "cell_type": "code",
   "execution_count": 10,
   "metadata": {},
   "outputs": [
    {
     "name": "stdout",
     "output_type": "stream",
     "text": [
      "Top 5 Animation Movies:\n",
      "      movie id                  movie title  popularity_score\n",
      "0           1             Toy Story (1995)            1753.0\n",
      "94         95               Aladdin (1992)             835.0\n",
      "70         71        Lion King, The (1994)             832.0\n",
      "587       588  Beauty and the Beast (1991)             766.0\n",
      "431       432              Fantasia (1940)             656.0\n",
      "\n",
      "Bottom 5 Animation Movies:\n",
      "       movie id                                        movie title  \\\n",
      "1075      1076                             Pagemaster, The (1994)   \n",
      "1366      1367                                       Faust (1994)   \n",
      "1408      1409                          Swan Princess, The (1994)   \n",
      "1469      1470                            Gumby: The Movie (1995)   \n",
      "1411      1412  Land Before Time III: The Time of the Great Gi...   \n",
      "\n",
      "      popularity_score  \n",
      "1075              27.0  \n",
      "1366              21.0  \n",
      "1408              20.0  \n",
      "1469              13.0  \n",
      "1411              10.0  \n"
     ]
    }
   ],
   "source": [
    "# Example: View top 5 most suggested and highly rated Animation movies\n",
    "print(\"Top 5 Animation Movies:\\n\", top_bottom_movies['Animation']['Top 5'])\n",
    "\n",
    "# Example: View bottom 5 Animation Movies\n",
    "print(\"\\nBottom 5 Animation Movies:\\n\", top_bottom_movies['Animation']['Bottom 5'])"
   ]
  },
  {
   "cell_type": "code",
   "execution_count": 12,
   "metadata": {},
   "outputs": [
    {
     "name": "stdout",
     "output_type": "stream",
     "text": [
      "Top 5 Children's Movies:\n",
      "      movie id                                   movie title  popularity_score\n",
      "0           1                              Toy Story (1995)            1753.0\n",
      "150       151  Willy Wonka and the Chocolate Factory (1971)            1184.0\n",
      "422       423             E.T. the Extra-Terrestrial (1982)            1150.0\n",
      "131       132                      Wizard of Oz, The (1939)            1003.0\n",
      "7           8                                   Babe (1995)             875.0\n",
      "\n",
      "Bottom 5 Children's Movies:\n",
      "       movie id                                  movie title  popularity_score\n",
      "1607      1608                                 Buddy (1997)               9.0\n",
      "246        247          Turbo: A Power Rangers Movie (1997)               9.0\n",
      "599        600        Daniel Defoe's Robinson Crusoe (1996)               6.0\n",
      "1291      1292                        Simple Wish, A (1997)               5.0\n",
      "313        314  3 Ninjas: High Noon At Mega Mountain (1998)               5.0\n"
     ]
    }
   ],
   "source": [
    "# Example: View top 5 most suggested and highly rated Children's movies\n",
    "print(\"Top 5 Children's Movies:\\n\", top_bottom_movies[\"Children's\"]['Top 5'])\n",
    "\n",
    "# Example: View bottom 5 Children's Movies\n",
    "print(\"\\nBottom 5 Children's Movies:\\n\", top_bottom_movies[\"Children's\"]['Bottom 5'])"
   ]
  },
  {
   "cell_type": "code",
   "execution_count": 7,
   "metadata": {},
   "outputs": [
    {
     "name": "stdout",
     "output_type": "stream",
     "text": [
      "Top 5 Comedy Movies:\n",
      "      movie id                             movie title  popularity_score\n",
      "0           1                        Toy Story (1995)            1753.0\n",
      "293       294                        Liar Liar (1997)            1531.0\n",
      "172       173              Princess Bride, The (1987)            1352.0\n",
      "203       204               Back to the Future (1985)            1342.0\n",
      "167       168  Monty Python and the Holy Grail (1974)            1285.0\n",
      "\n",
      "Bottom 5 Comedy Movies:\n",
      "       movie id                                 movie title  popularity_score\n",
      "1625      1626  Nobody Loves Me (Keiner liebt mich) (1994)               1.0\n",
      "1556      1557                          Yankee Zulu (1994)               1.0\n",
      "1566      1567                              Careful (1992)               1.0\n",
      "1567      1568                Vermont Is For Lovers (1992)               1.0\n",
      "1338      1339                 Stefano Quantestorie (1993)               1.0\n"
     ]
    }
   ],
   "source": [
    "# Example: View top 5 most suggested and highly rated Comedy movies\n",
    "print(\"Top 5 Comedy Movies:\\n\", top_bottom_movies['Comedy']['Top 5'])\n",
    "\n",
    "# Example: View bottom 5 Comedy Movies\n",
    "print(\"\\nBottom 5 Comedy Movies:\\n\", top_bottom_movies['Comedy']['Bottom 5'])"
   ]
  },
  {
   "cell_type": "code",
   "execution_count": 13,
   "metadata": {},
   "outputs": [
    {
     "name": "stdout",
     "output_type": "stream",
     "text": [
      "Top 5 Crime Movies:\n",
      "      movie id                 movie title  popularity_score\n",
      "99        100                Fargo (1996)            2111.0\n",
      "126       127       Godfather, The (1972)            1769.0\n",
      "55         56         Pulp Fiction (1994)            1600.0\n",
      "301       302    L.A. Confidential (1997)            1236.0\n",
      "11         12  Usual Suspects, The (1995)            1171.0\n",
      "\n",
      "Bottom 5 Crime Movies:\n",
      "       movie id                  movie title  popularity_score\n",
      "1605      1606              Deceiver (1997)               2.0\n",
      "1452      1453  Angel on My Shoulder (1946)               2.0\n",
      "1668      1669     MURDER and murder (1996)               2.0\n",
      "1585      1586        Lashou shentan (1992)               1.0\n",
      "1617      1618      King of New York (1990)               1.0\n"
     ]
    }
   ],
   "source": [
    "# Example: View top 5 most suggested and highly rated Crime movies\n",
    "print(\"Top 5 Crime Movies:\\n\", top_bottom_movies[\"Crime\"]['Top 5'])\n",
    "\n",
    "# Example: View bottom 5 Crime Movies\n",
    "print(\"\\nBottom 5 Crime Movies:\\n\", top_bottom_movies[\"Crime\"]['Bottom 5'])"
   ]
  },
  {
   "cell_type": "code",
   "execution_count": 14,
   "metadata": {},
   "outputs": [
    {
     "name": "stdout",
     "output_type": "stream",
     "text": [
      "Top 5 Documentary Movies:\n",
      "       movie id                   movie title  popularity_score\n",
      "47          48            Hoop Dreams (1994)             479.0\n",
      "31          32                  Crumb (1994)             307.0\n",
      "812        813  Celluloid Closet, The (1995)             218.0\n",
      "846        847    Looking for Richard (1996)             205.0\n",
      "1064      1065          Koyaanisqatsi (1983)             185.0\n",
      "\n",
      "Bottom 5 Documentary Movies:\n",
      "       movie id                                   movie title  popularity_score\n",
      "1648      1649                           Big One, The (1997)               3.0\n",
      "1362      1363                       Leopard Son, The (1996)               1.0\n",
      "1365      1366     JLG/JLG - autoportrait de décembre (1994)               1.0\n",
      "1560      1561    Tigrero: A Film That Was Never Made (1994)               1.0\n",
      "1561      1562  Eye of Vichy, The (Oeil de Vichy, L') (1993)               1.0\n"
     ]
    }
   ],
   "source": [
    "# Example: View top 5 most suggested and highly rated Documentary movies\n",
    "print(\"Top 5 Documentary Movies:\\n\", top_bottom_movies[\"Documentary\"]['Top 5'])\n",
    "\n",
    "# Example: View bottom 5 Documentary Movies\n",
    "print(\"\\nBottom 5 Documentary Movies:\\n\", top_bottom_movies[\"Documentary\"]['Bottom 5'])"
   ]
  },
  {
   "cell_type": "code",
   "execution_count": 15,
   "metadata": {},
   "outputs": [
    {
     "name": "stdout",
     "output_type": "stream",
     "text": [
      "Top 5 Drama Movies:\n",
      "      movie id                       movie title  popularity_score\n",
      "99        100                      Fargo (1996)            2111.0\n",
      "257       258                    Contact (1997)            1936.0\n",
      "126       127             Godfather, The (1972)            1769.0\n",
      "285       286       English Patient, The (1996)            1759.0\n",
      "97         98  Silence of the Lambs, The (1991)            1673.0\n",
      "\n",
      "Bottom 5 Drama Movies:\n",
      "       movie id                                   movie title  popularity_score\n",
      "1556      1557                            Yankee Zulu (1994)               1.0\n",
      "1545      1546                       Shadows (Cienie) (1988)               1.0\n",
      "1351      1352  Shadow of Angels (Schatten der Engel) (1976)               1.0\n",
      "1328      1329                          Low Life, The (1994)               1.0\n",
      "1583      1584                Symphonie pastorale, La (1946)               1.0\n"
     ]
    }
   ],
   "source": [
    "# Example: View top 5 most suggested and highly rated Drama movies\n",
    "print(\"Top 5 Drama Movies:\\n\", top_bottom_movies[\"Drama\"]['Top 5'])\n",
    "\n",
    "# Example: View bottom 5 Drama Movies\n",
    "print(\"\\nBottom 5 Drama Movies:\\n\", top_bottom_movies[\"Drama\"]['Bottom 5'])"
   ]
  },
  {
   "cell_type": "code",
   "execution_count": 16,
   "metadata": {},
   "outputs": [
    {
     "name": "stdout",
     "output_type": "stream",
     "text": [
      "Top 5 Fantasy Movies:\n",
      "      movie id                        movie title  popularity_score\n",
      "422       423  E.T. the Extra-Terrestrial (1982)            1150.0\n",
      "471       472                 Dragonheart (1996)             487.0\n",
      "410       411        Nutty Professor, The (1996)             475.0\n",
      "71         72                   Mask, The (1994)             412.0\n",
      "754       755                     Jumanji (1995)             318.0\n",
      "\n",
      "Bottom 5 Fantasy Movies:\n",
      "       movie id                        movie title  popularity_score\n",
      "547        548  NeverEnding Story III, The (1994)              26.0\n",
      "1335      1336                      Kazaam (1996)              18.0\n",
      "1292      1293                    Star Kid (1997)              15.0\n",
      "1291      1292              Simple Wish, A (1997)               5.0\n",
      "1575      1576     Hungarian Fairy Tale, A (1987)               1.0\n"
     ]
    }
   ],
   "source": [
    "# Example: View top 5 most suggested and highly rated Fantasy movies\n",
    "print(\"Top 5 Fantasy Movies:\\n\", top_bottom_movies[\"Fantasy\"]['Top 5'])\n",
    "\n",
    "# Example: View bottom 5 Fantasy Movies\n",
    "print(\"\\nBottom 5 Fantasy Movies:\\n\", top_bottom_movies[\"Fantasy\"]['Bottom 5'])"
   ]
  },
  {
   "cell_type": "code",
   "execution_count": 17,
   "metadata": {},
   "outputs": [
    {
     "name": "stdout",
     "output_type": "stream",
     "text": [
      "Top 5 Film-Noir Movies:\n",
      "      movie id                       movie title  popularity_score\n",
      "301       302          L.A. Confidential (1997)            1236.0\n",
      "88         89               Blade Runner (1982)            1138.0\n",
      "653       654                  Chinatown (1974)             608.0\n",
      "483       484        Maltese Falcon, The (1941)             581.0\n",
      "656       657  Manchurian Candidate, The (1962)             558.0\n",
      "\n",
      "Bottom 5 Film-Noir Movies:\n",
      "       movie id                movie title  popularity_score\n",
      "1063      1064           Crossfire (1947)              17.0\n",
      "1421      1422              Suture (1993)               9.0\n",
      "1603      1604  He Walked by Night (1948)               4.0\n",
      "1475      1476            Raw Deal (1948)               2.0\n",
      "1581      1582               T-Men (1947)               1.0\n"
     ]
    }
   ],
   "source": [
    "# Example: View top 5 most suggested and highly rated Film-Noir movies\n",
    "print(\"Top 5 Film-Noir Movies:\\n\", top_bottom_movies[\"Film-Noir\"]['Top 5'])\n",
    "\n",
    "# Example: View bottom 5 Film-Noir Movies\n",
    "print(\"\\nBottom 5 Film-Noir Movies:\\n\", top_bottom_movies[\"Film-Noir\"]['Bottom 5'])"
   ]
  },
  {
   "cell_type": "code",
   "execution_count": 18,
   "metadata": {},
   "outputs": [
    {
     "name": "stdout",
     "output_type": "stream",
     "text": [
      "Top 5 Horror Movies:\n",
      "      movie id                movie title  popularity_score\n",
      "287       288              Scream (1996)            1645.0\n",
      "182       183               Alien (1979)            1174.0\n",
      "233       234                Jaws (1975)            1057.0\n",
      "184       185              Psycho (1960)             980.0\n",
      "207       208  Young Frankenstein (1974)             789.0\n",
      "\n",
      "Bottom 5 Horror Movies:\n",
      "       movie id                   movie title  popularity_score\n",
      "1624      1625             Nightwatch (1997)               4.0\n",
      "1370      1371           Machine, The (1994)               3.0\n",
      "1519      1520              Fear, The (1995)               3.0\n",
      "857        858  Amityville: Dollhouse (1996)               3.0\n",
      "783        784          Beyond Bedlam (1993)               2.0\n"
     ]
    }
   ],
   "source": [
    "# Example: View top 5 most suggested and highly rated Horror movies\n",
    "print(\"Top 5 Horror Movies:\\n\", top_bottom_movies[\"Horror\"]['Top 5'])\n",
    "\n",
    "# Example: View bottom 5 Horror Movies\n",
    "print(\"\\nBottom 5 Horror Movies:\\n\", top_bottom_movies[\"Horror\"]['Bottom 5'])"
   ]
  },
  {
   "cell_type": "code",
   "execution_count": 19,
   "metadata": {},
   "outputs": [
    {
     "name": "stdout",
     "output_type": "stream",
     "text": [
      "Top 5 Musical Movies:\n",
      "      movie id                 movie title  popularity_score\n",
      "131       132    Wizard of Oz, The (1939)            1003.0\n",
      "185       186  Blues Brothers, The (1980)             963.0\n",
      "142       143  Sound of Music, The (1965)             836.0\n",
      "94         95              Aladdin (1992)             835.0\n",
      "70         71       Lion King, The (1994)             832.0\n",
      "\n",
      "Bottom 5 Musical Movies:\n",
      "       movie id                     movie title  popularity_score\n",
      "1036      1037                 Grease 2 (1982)              48.0\n",
      "1297      1298          Band Wagon, The (1953)              33.0\n",
      "102        103  All Dogs Go to Heaven 2 (1996)              28.0\n",
      "1458      1459         Madame Butterfly (1995)              25.0\n",
      "1457      1458    Damsel in Distress, A (1937)               4.0\n"
     ]
    }
   ],
   "source": [
    "# Example: View top 5 most suggested and highly rated Musical movies\n",
    "print(\"Top 5 Musical Movies:\\n\", top_bottom_movies[\"Musical\"]['Top 5'])\n",
    "\n",
    "# Example: View bottom 5 Musical Movies\n",
    "print(\"\\nBottom 5 Musical Movies:\\n\", top_bottom_movies[\"Musical\"]['Bottom 5'])"
   ]
  },
  {
   "cell_type": "code",
   "execution_count": 20,
   "metadata": {},
   "outputs": [
    {
     "name": "stdout",
     "output_type": "stream",
     "text": [
      "Top 5 Mystery Movies:\n",
      "      movie id                   movie title  popularity_score\n",
      "301       302      L.A. Confidential (1997)            1236.0\n",
      "190       191                Amadeus (1984)            1149.0\n",
      "404       405    Mission: Impossible (1996)            1140.0\n",
      "134       135  2001: A Space Odyssey (1968)            1028.0\n",
      "327       328      Conspiracy Theory (1997)            1010.0\n",
      "\n",
      "Bottom 5 Mystery Movies:\n",
      "       movie id                    movie title  popularity_score\n",
      "1552      1553         Underneath, The (1995)              11.0\n",
      "1451      1452       Lady of Burlesque (1943)               4.0\n",
      "1668      1669       MURDER and murder (1996)               2.0\n",
      "829        830                Power 98 (1995)               1.0\n",
      "1580      1581  Woman in Question, The (1950)               1.0\n"
     ]
    }
   ],
   "source": [
    "# Example: View top 5 most suggested and highly rated Mystery movies\n",
    "print(\"Top 5 Mystery Movies:\\n\", top_bottom_movies[\"Mystery\"]['Top 5'])\n",
    "\n",
    "# Example: View bottom 5 Mystery Movies\n",
    "print(\"\\nBottom 5 Mystery Movies:\\n\", top_bottom_movies[\"Mystery\"]['Bottom 5'])"
   ]
  },
  {
   "cell_type": "code",
   "execution_count": 21,
   "metadata": {},
   "outputs": [
    {
     "name": "stdout",
     "output_type": "stream",
     "text": [
      "Top 5 Romance Movies:\n",
      "      movie id                      movie title  popularity_score\n",
      "49         50                 Star Wars (1977)            2541.0\n",
      "180       181        Return of the Jedi (1983)            2032.0\n",
      "285       286      English Patient, The (1996)            1759.0\n",
      "171       172  Empire Strikes Back, The (1980)            1543.0\n",
      "312       313                   Titanic (1997)            1486.0\n",
      "\n",
      "Bottom 5 Romance Movies:\n",
      "       movie id                             movie title  popularity_score\n",
      "1579      1580                         Liebelei (1933)               1.0\n",
      "1567      1568            Vermont Is For Lovers (1992)               1.0\n",
      "1562      1563  Promise, The (Versprechen, Das) (1994)               1.0\n",
      "1339      1340                 Crude Oasis, The (1995)               1.0\n",
      "1492      1493                 Modern Affair, A (1995)               1.0\n"
     ]
    }
   ],
   "source": [
    "# Example: View top 5 most suggested and highly rated Romance movies\n",
    "print(\"Top 5 Romance Movies:\\n\", top_bottom_movies[\"Romance\"]['Top 5'])\n",
    "\n",
    "# Example: View bottom 5 Romance Movies\n",
    "print(\"\\nBottom 5 Romance Movies:\\n\", top_bottom_movies[\"Romance\"]['Bottom 5'])"
   ]
  },
  {
   "cell_type": "code",
   "execution_count": 22,
   "metadata": {},
   "outputs": [
    {
     "name": "stdout",
     "output_type": "stream",
     "text": [
      "Top 5 Sci-Fi Movies:\n",
      "      movie id                      movie title  popularity_score\n",
      "49         50                 Star Wars (1977)            2541.0\n",
      "180       181        Return of the Jedi (1983)            2032.0\n",
      "257       258                   Contact (1997)            1936.0\n",
      "171       172  Empire Strikes Back, The (1980)            1543.0\n",
      "6           7            Twelve Monkeys (1995)            1489.0\n",
      "\n",
      "Bottom 5 Sci-Fi Movies:\n",
      "       movie id                            movie title  popularity_score\n",
      "1292      1293                        Star Kid (1997)              15.0\n",
      "1415      1416                       No Escape (1994)              12.0\n",
      "1471      1472  Visitors, The (Visiteurs, Les) (1993)               7.0\n",
      "896        897                    Time Tracers (1995)               3.0\n",
      "1595      1596               Nemesis 2: Nebula (1995)               2.0\n"
     ]
    }
   ],
   "source": [
    "# Example: View top 5 most suggested and highly rated Sci-Fi movies\n",
    "print(\"Top 5 Sci-Fi Movies:\\n\", top_bottom_movies[\"Sci-Fi\"]['Top 5'])\n",
    "\n",
    "# Example: View bottom 5 Sci-Fi Movies\n",
    "print(\"\\nBottom 5 Sci-Fi Movies:\\n\", top_bottom_movies[\"Sci-Fi\"]['Bottom 5'])"
   ]
  },
  {
   "cell_type": "code",
   "execution_count": 23,
   "metadata": {},
   "outputs": [
    {
     "name": "stdout",
     "output_type": "stream",
     "text": [
      "Top 5 Thriller Movies:\n",
      "      movie id                       movie title  popularity_score\n",
      "99        100                      Fargo (1996)            2111.0\n",
      "97         98  Silence of the Lambs, The (1991)            1673.0\n",
      "287       288                     Scream (1996)            1645.0\n",
      "299       300              Air Force One (1997)            1565.0\n",
      "116       117                  Rock, The (1996)            1396.0\n",
      "\n",
      "Bottom 5 Thriller Movies:\n",
      "       movie id                movie title  popularity_score\n",
      "1578      1579         Baton Rouge (1988)               1.0\n",
      "1620      1621      Butterfly Kiss (1995)               1.0\n",
      "1558      1559  Hostile Intentions (1994)               1.0\n",
      "829        830            Power 98 (1995)               1.0\n",
      "1547      1548       The Courtyard (1995)               1.0\n"
     ]
    }
   ],
   "source": [
    "# Example: View top 5 most suggested and highly rated Thriller movies\n",
    "print(\"Top 5 Thriller Movies:\\n\", top_bottom_movies[\"Thriller\"]['Top 5'])\n",
    "\n",
    "# Example: View bottom 5 Thriller Movies\n",
    "print(\"\\nBottom 5 Thriller Movies:\\n\", top_bottom_movies[\"Thriller\"]['Bottom 5'])"
   ]
  },
  {
   "cell_type": "code",
   "execution_count": 24,
   "metadata": {},
   "outputs": [
    {
     "name": "stdout",
     "output_type": "stream",
     "text": [
      "Top 5 War Movies:\n",
      "      movie id                      movie title  popularity_score\n",
      "49         50                 Star Wars (1977)            2541.0\n",
      "180       181        Return of the Jedi (1983)            2032.0\n",
      "285       286      English Patient, The (1996)            1759.0\n",
      "171       172  Empire Strikes Back, The (1980)            1543.0\n",
      "120       121    Independence Day (ID4) (1996)            1475.0\n",
      "\n",
      "Bottom 5 War Movies:\n",
      "       movie id                                  movie title  popularity_score\n",
      "1422      1423                     Walking Dead, The (1995)               9.0\n",
      "1356      1357                        For the Moment (1994)               8.0\n",
      "1631      1632  Land and Freedom (Tierra y libertad) (1995)               3.0\n",
      "1662      1663                      Nothing Personal (1995)               2.0\n",
      "1573      1574                        Pharaoh's Army (1995)               1.0\n"
     ]
    }
   ],
   "source": [
    "# Example: View top 5 most suggested and highly rated War movies\n",
    "print(\"Top 5 War Movies:\\n\", top_bottom_movies[\"War\"]['Top 5'])\n",
    "\n",
    "# Example: View bottom 5 War Movies\n",
    "print(\"\\nBottom 5 War Movies:\\n\", top_bottom_movies[\"War\"]['Bottom 5'])"
   ]
  },
  {
   "cell_type": "code",
   "execution_count": 25,
   "metadata": {},
   "outputs": [
    {
     "name": "stdout",
     "output_type": "stream",
     "text": [
      "Top 5 Western Movies:\n",
      "      movie id                                movie title  popularity_score\n",
      "96         97                  Dances with Wolves (1990)             971.0\n",
      "434       435  Butch Cassidy and the Sundance Kid (1969)             853.0\n",
      "202       203                          Unforgiven (1992)             704.0\n",
      "176       177     Good, The Bad and The Ugly, The (1966)             529.0\n",
      "509       510              Magnificent Seven, The (1954)             477.0\n",
      "\n",
      "Bottom 5 Western Movies:\n",
      "       movie id                          movie title  popularity_score\n",
      "1003      1004  Geronimo: An American Legend (1993)              28.0\n",
      "1453      1454          Angel and the Badman (1947)              18.0\n",
      "1246      1247                     Bad Girls (1994)              11.0\n",
      "1454      1455                   Outlaw, The (1943)               5.0\n",
      "1586      1587        Terror in a Texas Town (1958)               1.0\n"
     ]
    }
   ],
   "source": [
    "# Example: View top 5 most suggested and highly rated Western movies\n",
    "print(\"Top 5 Western Movies:\\n\", top_bottom_movies[\"Western\"]['Top 5'])\n",
    "\n",
    "# Example: View bottom 5 Western Movies\n",
    "print(\"\\nBottom 5 Western Movies:\\n\", top_bottom_movies[\"Western\"]['Bottom 5'])"
   ]
  },
  {
   "cell_type": "code",
   "execution_count": null,
   "metadata": {},
   "outputs": [],
   "source": []
  }
 ],
 "metadata": {
  "kernelspec": {
   "display_name": "Python 3 (ipykernel)",
   "language": "python",
   "name": "python3"
  },
  "language_info": {
   "codemirror_mode": {
    "name": "ipython",
    "version": 3
   },
   "file_extension": ".py",
   "mimetype": "text/x-python",
   "name": "python",
   "nbconvert_exporter": "python",
   "pygments_lexer": "ipython3",
   "version": "3.11.5"
  }
 },
 "nbformat": 4,
 "nbformat_minor": 4
}
